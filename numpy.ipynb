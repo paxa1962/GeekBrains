{
 "cells": [
  {
   "cell_type": "code",
   "execution_count": 4,
   "id": "81fd4edc",
   "metadata": {
    "pycharm": {
     "is_executing": false
    }
   },
   "outputs": [
    {
     "data": {
      "text/plain": "array([[1. , 2. ],\n       [2. , 4.3]])"
     },
     "metadata": {},
     "output_type": "execute_result",
     "execution_count": 4
    }
   ],
   "source": [
    "import numpy as np\n",
    "a = np.array([[1,6],\n",
    "              [2,8],\n",
    "              [3,11],\n",
    "              [3,10],\n",
    "              [1,7]])\n",
    "mean_a = a.mean(axis=0)\n",
    "a_centered = np.array([a[0:,0]-mean_a[0], a[0:, 1]-mean_a[1]]).T\n",
    "a_centered\n",
    "a_centered_sp = np.dot(a_centered[0:,0],a_centered[0:,1])\n",
    "a_centered_sp/(5-1)\n",
    "np.cov(a.T)"
   ]
  }
 ],
 "metadata": {
  "kernelspec": {
   "display_name": "Python 3",
   "language": "python",
   "name": "python3"
  },
  "language_info": {
   "codemirror_mode": {
    "name": "ipython",
    "version": 3
   },
   "file_extension": ".py",
   "mimetype": "text/x-python",
   "name": "python",
   "nbconvert_exporter": "python",
   "pygments_lexer": "ipython3",
   "version": "3.8.3"
  }
 },
 "nbformat": 4,
 "nbformat_minor": 5
}