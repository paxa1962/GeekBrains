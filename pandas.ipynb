{
 "cells": [
  {
   "cell_type": "code",
   "execution_count": null,
   "id": "802bd1b5",
   "metadata": {},
   "outputs": [],
   "source": [
    "import pandas as pd\n",
    "import np as np\n",
    "\n",
    "authors = pd.DataFrame({\"auth_id\":[1,2,3],\n",
    "                       \"auth_name\":[\"Тургенев\",\"Чехов\",\"Островский\"]})\n",
    "books = pd.DataFrame({\"auth_id\":[1, 1, 1, 2, 2, 3, 3],\n",
    "                     \"book_title\":['Отцы и дети', 'Рудин', 'Дворянское гнездо', 'Толстый и тонкий', 'Дама с собачкой', 'Гроза', 'Таланты и поклонники'],\n",
    "                     \"price\":[450, 300, 350, 500, 450, 370, 290]})\n",
    "\n",
    "authors_price = pd.merge(authors, books, on=\"auth_id\")\n",
    "\n",
    "top5 = authors_price.nlargest(3,\"price\")\n",
    "\n",
    "#Группируем по столбцу auth_name и для авторов считаем макс, мин по column price\n",
    "authors_price_stat = authors_price.groupby(\"auth_name\")[\"price\"].agg(min=\"min\",max=\"max\",avg=\"mean\")\n",
    "\n",
    "#Добавляем столбец\n",
    "authors_price[\"cover\"] = ['твердая', 'мягкая', 'мягкая', 'твердая', 'твердая', 'мягкая', 'мягкая']\n",
    "\n",
    "book_info = pd.pivot_table(authors_price,index=\"auth_id\", columns=\"cover\", values=\"price\", aggfunc=np.sum, fill_value=0)\n",
    "\n",
    "book_info.to_pickle('/Users/mac/Desktop/book_info.pkl')\n",
    "pd.read_pickle('/Users/mac/Desktop/book_info.pkl')"
   ]
  }
 ],
 "metadata": {
  "kernelspec": {
   "display_name": "Python 3",
   "language": "python",
   "name": "python3"
  },
  "language_info": {
   "codemirror_mode": {
    "name": "ipython",
    "version": 3
   },
   "file_extension": ".py",
   "mimetype": "text/x-python",
   "name": "python",
   "nbconvert_exporter": "python",
   "pygments_lexer": "ipython3",
   "version": "3.8.3"
  }
 },
 "nbformat": 4,
 "nbformat_minor": 5
}
